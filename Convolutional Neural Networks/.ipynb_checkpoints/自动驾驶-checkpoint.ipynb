{
 "cells": [
  {
   "cell_type": "markdown",
   "metadata": {},
   "source": [
    "# 自动驾驶"
   ]
  },
  {
   "cell_type": "markdown",
   "metadata": {},
   "source": [
    "## 项目背景"
   ]
  },
  {
   "cell_type": "markdown",
   "metadata": {},
   "source": [
    "随着卷积神经网络（CNN）在计算机视觉领域的应用，自动驾驶技术得到了突飞猛进的发展。本项目从零开始搭建YOLO卷积神经网络模型，该模型名称是You only look once的缩写，由Joseph Redmon在2015年7月提出，有较高的精度和较好的实时性，根据官网的介绍，最新的模型在Titan X上处理40-90 FPS的图片在VOC 2007测试集得到mAP为78.6%，在COCO测试集得到mAP为48.1%，可以说，该算法是目前最先进的算法之一。本项目的主要内容来自于deeplearning.ai在Coursera开设的系列课程Convolutional Neural Networks，通过动手实践，学习目标检测相关概念，练习部署神经网络算法。"
   ]
  },
  {
   "cell_type": "markdown",
   "metadata": {},
   "source": [
    "## 项目目标"
   ]
  },
  {
   "cell_type": "markdown",
   "metadata": {},
   "source": [
    "通过搭建深层卷积神经网络，我们可以对图片中物体的位置进行预测和标记，但是，如何解决采用合适大小的矩形框标记物体位置的问题？如何得到正确的目标分类？如何解决多个矩形框标记重叠的问题？   \n",
    "为达到精确识别目标的目的，本项目的目标是搭建YOLO模型，解决上述问题，实现对图片中车辆位置的检测和标记。"
   ]
  },
  {
   "cell_type": "markdown",
   "metadata": {},
   "source": [
    "## 实现方法"
   ]
  },
  {
   "cell_type": "markdown",
   "metadata": {},
   "source": [
    "本项目使用的数据集来自于Drive.ai，主要是通过车载摄像头得到的交通路况图片。具体来说，图片维度为(m, 608, 608, 3)，通过深度神经网络处理并进行编码后，得到(m, 19, 19, 5, 85)的Tensor数据，本项目的重点是如何处理编码后的数据得到可信赖的车辆标记结果。具体来说，本项目的实现过程如下：\n",
    "1. 通过深度神经网络将输入图片编码为19*19的网格，每个网格对5个anchor boxes和80个类别进行预测。\n",
    "2. 编写类别筛选函数，通过阈值对每个网格每个anchor box的80个类别进行筛选，得到符合条件的结果。\n",
    "3. 采用“非极大值抑制”算法，利用不同的box的iou值，得到最优的标记box，解决多个网格重复标记同一物体的问题。\n",
    "4. 组合上述函数，利用tensorflow和keras搭建YOLO模型对算法进行测试。\n",
    "5. 利用YOLO官网给出的参数对实际图片进行测试。"
   ]
  },
  {
   "cell_type": "markdown",
   "metadata": {},
   "source": [
    "## 结果"
   ]
  },
  {
   "cell_type": "markdown",
   "metadata": {},
   "source": [
    "得到图片中7个车辆的位置和概率，并完成标记。通过完成此项目，得到以下经验：\n",
    "1. YOLO是比较先进的目标检测模型，能够得到较好的速度和精度。\n",
    "2. 通过深度卷积神经网络，YOLO算法能够得到19x19x5x85维度的tensor，可以看成19x19的网格，代表5个anchor boex类型和80个物体类别。\n",
    "3. 通过“阈值类别筛选”和“非极大值抑制”算法解决无效标记和重复标记的问题。\n",
    "4. Intersection over Union (IoU)是用于检测标记精度的重要标准。\n",
    "5. 训练该网络需要大量和数据和计算。"
   ]
  },
  {
   "cell_type": "code",
   "execution_count": null,
   "metadata": {
    "collapsed": true
   },
   "outputs": [],
   "source": []
  }
 ],
 "metadata": {
  "kernelspec": {
   "display_name": "Python 3",
   "language": "python",
   "name": "python3"
  },
  "language_info": {
   "codemirror_mode": {
    "name": "ipython",
    "version": 3
   },
   "file_extension": ".py",
   "mimetype": "text/x-python",
   "name": "python",
   "nbconvert_exporter": "python",
   "pygments_lexer": "ipython3",
   "version": "3.6.1"
  }
 },
 "nbformat": 4,
 "nbformat_minor": 2
}
